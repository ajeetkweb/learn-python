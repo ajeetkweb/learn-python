{
 "cells": [
  {
   "cell_type": "code",
   "execution_count": 1,
   "metadata": {},
   "outputs": [],
   "source": [
    "import threading\n",
    "\n",
    "# Shared variable\n",
    "current_number = 1\n",
    "max_number = 10\n",
    "\n",
    "# Locks for synchronization\n",
    "even_lock = threading.Lock()\n",
    "odd_lock = threading.Lock()"
   ]
  },
  {
   "cell_type": "code",
   "execution_count": 2,
   "metadata": {},
   "outputs": [],
   "source": [
    "# Start with the even lock acquired to let odd numbers print first\n",
    "even_lock.acquire()\n",
    "\n",
    "def print_odd_numbers():\n",
    "    global current_number\n",
    "    while current_number <= max_number:\n",
    "        # Acquire the odd lock to print the next odd number\n",
    "        odd_lock.acquire()\n",
    "        if current_number % 2 != 0:\n",
    "            print(f\"Odd: {current_number}\")\n",
    "            current_number += 1\n",
    "        # Release the even lock to allow even number to print\n",
    "        even_lock.release()"
   ]
  },
  {
   "cell_type": "code",
   "execution_count": 3,
   "metadata": {},
   "outputs": [],
   "source": [
    "def print_even_numbers():\n",
    "    global current_number\n",
    "    while current_number <= max_number:\n",
    "        # Acquire the even lock to print the next even number\n",
    "        even_lock.acquire()\n",
    "        if current_number % 2 == 0:\n",
    "            print(f\"Even: {current_number}\")\n",
    "            current_number += 1\n",
    "        # Release the odd lock to allow odd number to print\n",
    "        odd_lock.release()"
   ]
  },
  {
   "cell_type": "code",
   "execution_count": 4,
   "metadata": {},
   "outputs": [],
   "source": [
    "# Create threads\n",
    "odd_thread = threading.Thread(target=print_odd_numbers)\n",
    "even_thread = threading.Thread(target=print_even_numbers)"
   ]
  },
  {
   "cell_type": "code",
   "execution_count": 5,
   "metadata": {},
   "outputs": [
    {
     "name": "stdout",
     "output_type": "stream",
     "text": [
      "Odd: 1\n",
      "Even: 2\n",
      "Odd: 3\n",
      "Even: 4\n",
      "Odd: 5\n",
      "Even: 6\n",
      "Odd: 7\n",
      "Even: 8\n",
      "Odd: 9\n",
      "Even: 10\n",
      "Odd: 11\n",
      "Done!\n"
     ]
    }
   ],
   "source": [
    "# Start threads\n",
    "odd_thread.start()\n",
    "even_thread.start()\n",
    "\n",
    "# Wait for threads to complete\n",
    "odd_thread.join()\n",
    "even_thread.join()\n",
    "\n",
    "print(\"Done!\")"
   ]
  }
 ],
 "metadata": {
  "kernelspec": {
   "display_name": "Python 3",
   "language": "python",
   "name": "python3"
  },
  "language_info": {
   "codemirror_mode": {
    "name": "ipython",
    "version": 3
   },
   "file_extension": ".py",
   "mimetype": "text/x-python",
   "name": "python",
   "nbconvert_exporter": "python",
   "pygments_lexer": "ipython3",
   "version": "3.11.5"
  }
 },
 "nbformat": 4,
 "nbformat_minor": 2
}
