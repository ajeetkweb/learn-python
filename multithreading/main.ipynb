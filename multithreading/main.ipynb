{
 "cells": [
  {
   "cell_type": "code",
   "execution_count": 1,
   "metadata": {},
   "outputs": [],
   "source": [
    "from threading import Thread\n",
    "from time import sleep"
   ]
  },
  {
   "cell_type": "code",
   "execution_count": 2,
   "metadata": {},
   "outputs": [],
   "source": [
    "def cal_cube(numbers):\n",
    "\n",
    "    print(\"calculating cube of numbers----------\")\n",
    "\n",
    "    for num in numbers:\n",
    "        print(\"Cube :\", num*num*num)\n",
    "        sleep(1)"
   ]
  },
  {
   "cell_type": "code",
   "execution_count": 3,
   "metadata": {},
   "outputs": [],
   "source": [
    "\n",
    "\n",
    "def cal_squire(numbers):\n",
    "\n",
    "    print(\"calculating squire of numbers----------\")\n",
    "\n",
    "    for num in numbers:\n",
    "        print(\"Squire : \", num*num)\n",
    "        sleep(1)"
   ]
  },
  {
   "cell_type": "code",
   "execution_count": 4,
   "metadata": {},
   "outputs": [],
   "source": [
    "arr = [2, 3, 4, 5, 6]\n",
    "t1 = Thread(target = cal_squire, args = (arr, ))\n",
    "t2 = Thread(target=cal_cube, args=(arr, ))"
   ]
  },
  {
   "cell_type": "code",
   "execution_count": 5,
   "metadata": {},
   "outputs": [
    {
     "name": "stdout",
     "output_type": "stream",
     "text": [
      "calculating squire of numbers----------calculating cube of numbers----------\n",
      "Cube : 8\n",
      "\n",
      "Squire :  4\n",
      "Cube : 27\n",
      "Squire :  9\n",
      "Squire :  16\n",
      "Cube : 64\n",
      "Squire : Cube : 125\n",
      " 25\n",
      "Squire : Cube : 216\n",
      " 36\n"
     ]
    }
   ],
   "source": [
    "\n",
    "t1.start()\n",
    "t2.start()\n",
    "\n",
    "t1.join()\n",
    "t2.join()"
   ]
  }
 ],
 "metadata": {
  "kernelspec": {
   "display_name": "Python 3",
   "language": "python",
   "name": "python3"
  },
  "language_info": {
   "codemirror_mode": {
    "name": "ipython",
    "version": 3
   },
   "file_extension": ".py",
   "mimetype": "text/x-python",
   "name": "python",
   "nbconvert_exporter": "python",
   "pygments_lexer": "ipython3",
   "version": "3.11.5"
  }
 },
 "nbformat": 4,
 "nbformat_minor": 2
}
