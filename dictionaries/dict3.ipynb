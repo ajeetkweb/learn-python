{
 "cells": [
  {
   "cell_type": "markdown",
   "metadata": {},
   "source": [
    "### # Function to flatten a nested dictionary"
   ]
  },
  {
   "cell_type": "code",
   "execution_count": 1,
   "metadata": {},
   "outputs": [],
   "source": [
    "def flatten_dict(d, sep='_'):\n",
    "    items = []\n",
    "    for k, v in d.items():\n",
    "        new_key = f\"{k}{sep}\"\n",
    "        if isinstance(v, dict):\n",
    "            print(v.items())\n",
    "            for key, value in v.items():\n",
    "                new_key2 = f\"{k}{key}{sep}\"\n",
    "                items.append((new_key2, value))\n",
    "        else:\n",
    "            items.append((new_key, v))\n",
    "            \n",
    "    return dict(items)"
   ]
  },
  {
   "cell_type": "code",
   "execution_count": 2,
   "metadata": {},
   "outputs": [],
   "source": [
    "# Example usage\n",
    "nested_dict = {\n",
    "    'person1': {\n",
    "        'name': 'Alice',\n",
    "        'details': {\n",
    "            'age': 30,\n",
    "            'city': 'New York'\n",
    "        }\n",
    "    },\n",
    "    'person2': {\n",
    "        'name': 'Bob',\n",
    "        'details': {\n",
    "            'age': 25,\n",
    "            'city': 'Los Angeles'\n",
    "        }\n",
    "    }\n",
    "}"
   ]
  },
  {
   "cell_type": "code",
   "execution_count": 3,
   "metadata": {},
   "outputs": [
    {
     "name": "stdout",
     "output_type": "stream",
     "text": [
      "dict_items([('name', 'Alice'), ('details', {'age': 30, 'city': 'New York'})])\n",
      "dict_items([('name', 'Bob'), ('details', {'age': 25, 'city': 'Los Angeles'})])\n",
      "{'person1name_': 'Alice', 'person1details_': {'age': 30, 'city': 'New York'}, 'person2name_': 'Bob', 'person2details_': {'age': 25, 'city': 'Los Angeles'}}\n"
     ]
    }
   ],
   "source": [
    "flat_dict = flatten_dict(nested_dict)\n",
    "print(flat_dict)"
   ]
  },
  {
   "cell_type": "code",
   "execution_count": null,
   "metadata": {},
   "outputs": [],
   "source": []
  }
 ],
 "metadata": {
  "kernelspec": {
   "display_name": "Python 3",
   "language": "python",
   "name": "python3"
  },
  "language_info": {
   "codemirror_mode": {
    "name": "ipython",
    "version": 3
   },
   "file_extension": ".py",
   "mimetype": "text/x-python",
   "name": "python",
   "nbconvert_exporter": "python",
   "pygments_lexer": "ipython3",
   "version": "3.11.5"
  }
 },
 "nbformat": 4,
 "nbformat_minor": 2
}
