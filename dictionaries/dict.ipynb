{
 "cells": [
  {
   "cell_type": "code",
   "execution_count": 1,
   "metadata": {},
   "outputs": [],
   "source": [
    "state_capitals = {\n",
    "    \"Bihar\": \"Patna\",\n",
    "    \"Rajasthan\": \"Jaipur\",\n",
    "    \"Uttar Pradesh\": \"Luchnow\",\n",
    "    \"Punjab\": \"Chandigadh\"\n",
    "}\n"
   ]
  },
  {
   "cell_type": "code",
   "execution_count": 2,
   "metadata": {},
   "outputs": [
    {
     "name": "stdout",
     "output_type": "stream",
     "text": [
      "{'Bihar': 'Patna', 'Rajasthan': 'Jaipur', 'Uttar Pradesh': 'Luchnow', 'Punjab': 'Chandigadh'}\n"
     ]
    }
   ],
   "source": [
    "print(state_capitals)"
   ]
  },
  {
   "cell_type": "markdown",
   "metadata": {},
   "source": [
    "### Add Items to a Dictionary"
   ]
  },
  {
   "cell_type": "code",
   "execution_count": 3,
   "metadata": {},
   "outputs": [
    {
     "name": "stdout",
     "output_type": "stream",
     "text": [
      "{'Bihar': 'Patna', 'Rajasthan': 'Jaipur', 'Uttar Pradesh': 'Luchnow', 'Punjab': 'Chandigadh', 'Maharastra': 'Mumbay'}\n"
     ]
    }
   ],
   "source": [
    "state_capitals['Maharastra'] = 'Mumbay'\n",
    "print(state_capitals)"
   ]
  },
  {
   "cell_type": "markdown",
   "metadata": {},
   "source": [
    "### Remove Dictionary Items "
   ]
  },
  {
   "cell_type": "code",
   "execution_count": 4,
   "metadata": {},
   "outputs": [
    {
     "name": "stdout",
     "output_type": "stream",
     "text": [
      "{'Bihar': 'Patna', 'Rajasthan': 'Jaipur', 'Uttar Pradesh': 'Luchnow', 'Punjab': 'Chandigadh'}\n"
     ]
    }
   ],
   "source": [
    "# using del\n",
    "del state_capitals['Maharastra']\n",
    "print(state_capitals)"
   ]
  },
  {
   "cell_type": "markdown",
   "metadata": {},
   "source": [
    "### clear() - clear the dictionary"
   ]
  },
  {
   "cell_type": "code",
   "execution_count": 6,
   "metadata": {},
   "outputs": [
    {
     "name": "stdout",
     "output_type": "stream",
     "text": [
      "{'Germany': 'Berlin', 'Canada': 'Ottawa'}\n",
      "{}\n"
     ]
    }
   ],
   "source": [
    "country_capitals = {\n",
    "  \"Germany\": \"Berlin\", \n",
    "  \"Canada\": \"Ottawa\", \n",
    "}\n",
    "\n",
    "print(country_capitals)  \n",
    "# clear the dictionary\n",
    "country_capitals.clear()\n",
    "print(country_capitals)  "
   ]
  },
  {
   "cell_type": "markdown",
   "metadata": {},
   "source": [
    "### Iterate Through a Dictionary"
   ]
  },
  {
   "cell_type": "code",
   "execution_count": 7,
   "metadata": {},
   "outputs": [
    {
     "name": "stdout",
     "output_type": "stream",
     "text": [
      "state:  Bihar\n",
      "state:  Rajasthan\n",
      "state:  Uttar Pradesh\n",
      "state:  Punjab\n"
     ]
    }
   ],
   "source": [
    "for state in state_capitals:\n",
    "    print('state: ', state)"
   ]
  },
  {
   "cell_type": "markdown",
   "metadata": {},
   "source": [
    "### print dictionary values one by one"
   ]
  },
  {
   "cell_type": "code",
   "execution_count": 8,
   "metadata": {},
   "outputs": [
    {
     "name": "stdout",
     "output_type": "stream",
     "text": [
      " Bihar capital is Patna\n",
      " Rajasthan capital is Jaipur\n",
      " Uttar Pradesh capital is Luchnow\n",
      " Punjab capital is Chandigadh\n"
     ]
    }
   ],
   "source": [
    "for state in state_capitals:\n",
    "    print(f' {state} capital is {state_capitals[state]}')"
   ]
  },
  {
   "cell_type": "markdown",
   "metadata": {},
   "source": [
    "### values()"
   ]
  },
  {
   "cell_type": "code",
   "execution_count": 9,
   "metadata": {},
   "outputs": [
    {
     "name": "stdout",
     "output_type": "stream",
     "text": [
      "dict_values(['Patna', 'Jaipur', 'Luchnow', 'Chandigadh'])\n",
      "capital: Patna\n",
      "capital: Jaipur\n",
      "capital: Luchnow\n",
      "capital: Chandigadh\n"
     ]
    }
   ],
   "source": [
    "print(state_capitals.values())\n",
    "for capital in state_capitals.values():\n",
    "    print(\"capital:\", capital)"
   ]
  },
  {
   "cell_type": "markdown",
   "metadata": {},
   "source": [
    "### keys()\n"
   ]
  },
  {
   "cell_type": "code",
   "execution_count": 10,
   "metadata": {},
   "outputs": [
    {
     "name": "stdout",
     "output_type": "stream",
     "text": [
      "dict_keys(['Bihar', 'Rajasthan', 'Uttar Pradesh', 'Punjab'])\n",
      "state: Bihar\n",
      "state: Rajasthan\n",
      "state: Uttar Pradesh\n",
      "state: Punjab\n"
     ]
    }
   ],
   "source": [
    "print(state_capitals.keys())\n",
    "for state in state_capitals.keys():\n",
    "    print(\"state:\", state)"
   ]
  },
  {
   "cell_type": "markdown",
   "metadata": {},
   "source": [
    "### dict.items()"
   ]
  },
  {
   "cell_type": "code",
   "execution_count": 12,
   "metadata": {},
   "outputs": [
    {
     "name": "stdout",
     "output_type": "stream",
     "text": [
      "dict_items([('Bihar', 'Patna'), ('Rajasthan', 'Jaipur'), ('Uttar Pradesh', 'Luchnow'), ('Punjab', 'Chandigadh')])\n",
      "Bihar :  Patna\n",
      "Rajasthan :  Jaipur\n",
      "Uttar Pradesh :  Luchnow\n",
      "Punjab :  Chandigadh\n"
     ]
    }
   ],
   "source": [
    "print(state_capitals.items())\n",
    "\n",
    "for state, capital in state_capitals.items():\n",
    "    print(state, ': ', capital)\n"
   ]
  },
  {
   "cell_type": "markdown",
   "metadata": {},
   "source": [
    "### dict.update()"
   ]
  },
  {
   "cell_type": "code",
   "execution_count": 13,
   "metadata": {},
   "outputs": [
    {
     "name": "stdout",
     "output_type": "stream",
     "text": [
      "{'Bihar': 'Patna', 'Rajasthan': 'Jaipur', 'Uttar Pradesh': 'Luchnow', 'Punjab': 'Chandigadh', 'Jharkhand': 'Ranchi'}\n"
     ]
    }
   ],
   "source": [
    "# dict.update()\n",
    "state_capitals.update({\"Jharkhand\": \"Ranchi\"})\n",
    "print(state_capitals)\n"
   ]
  },
  {
   "cell_type": "code",
   "execution_count": null,
   "metadata": {},
   "outputs": [],
   "source": []
  }
 ],
 "metadata": {
  "kernelspec": {
   "display_name": "Python 3",
   "language": "python",
   "name": "python3"
  },
  "language_info": {
   "codemirror_mode": {
    "name": "ipython",
    "version": 3
   },
   "file_extension": ".py",
   "mimetype": "text/x-python",
   "name": "python",
   "nbconvert_exporter": "python",
   "pygments_lexer": "ipython3",
   "version": "3.11.5"
  }
 },
 "nbformat": 4,
 "nbformat_minor": 2
}
