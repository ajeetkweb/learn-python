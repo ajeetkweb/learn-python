{
 "cells": [
  {
   "cell_type": "code",
   "execution_count": 1,
   "metadata": {},
   "outputs": [],
   "source": [
    "# Example nested dictionary\n",
    "people = {\n",
    "    'person1': {\n",
    "        'name': 'Alice',\n",
    "        'age': 30,\n",
    "        'city': 'New York'\n",
    "    },\n",
    "    'person2': {\n",
    "        'name': 'Bob',\n",
    "        'age': 25,\n",
    "        'city': 'Los Angeles'\n",
    "    }\n",
    "}"
   ]
  },
  {
   "cell_type": "code",
   "execution_count": 2,
   "metadata": {},
   "outputs": [],
   "source": [
    "# Accessing a nested value\n",
    "alice_age = people['person1']['age']\n",
    "bob_city = people['person2']['city']"
   ]
  },
  {
   "cell_type": "code",
   "execution_count": 3,
   "metadata": {},
   "outputs": [
    {
     "name": "stdout",
     "output_type": "stream",
     "text": [
      "Alice's age: 30\n",
      "Bob's city: Los Angeles\n"
     ]
    }
   ],
   "source": [
    "print(f\"Alice's age: {alice_age}\")\n",
    "print(f\"Bob's city: {bob_city}\")"
   ]
  },
  {
   "cell_type": "code",
   "execution_count": 4,
   "metadata": {},
   "outputs": [
    {
     "name": "stdout",
     "output_type": "stream",
     "text": [
      "person1:\n",
      "  name: Alice\n",
      "  age: 30\n",
      "  city: New York\n",
      "person2:\n",
      "  name: Bob\n",
      "  age: 25\n",
      "  city: Los Angeles\n"
     ]
    }
   ],
   "source": [
    "# Iterating over a nested dictionary\n",
    "for person, details in people.items():\n",
    "    print(f\"{person}:\")\n",
    "    for key, value in details.items():\n",
    "        print(f\"  {key}: {value}\")"
   ]
  },
  {
   "cell_type": "code",
   "execution_count": null,
   "metadata": {},
   "outputs": [],
   "source": []
  }
 ],
 "metadata": {
  "kernelspec": {
   "display_name": "Python 3",
   "language": "python",
   "name": "python3"
  },
  "language_info": {
   "codemirror_mode": {
    "name": "ipython",
    "version": 3
   },
   "file_extension": ".py",
   "mimetype": "text/x-python",
   "name": "python",
   "nbconvert_exporter": "python",
   "pygments_lexer": "ipython3",
   "version": "3.11.5"
  }
 },
 "nbformat": 4,
 "nbformat_minor": 2
}
