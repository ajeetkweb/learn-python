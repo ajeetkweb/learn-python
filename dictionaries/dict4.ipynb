{
 "cells": [
  {
   "cell_type": "markdown",
   "metadata": {},
   "source": [
    "### Function to search for a key in a nested dictionary"
   ]
  },
  {
   "cell_type": "code",
   "execution_count": 2,
   "metadata": {},
   "outputs": [],
   "source": [
    "def search_key(d, key):\n",
    "    if key in d:\n",
    "        return d[key]\n",
    "    for k, v in d.items():\n",
    "        if isinstance(v, dict):\n",
    "            result = search_key(v, key)\n",
    "            if result is not None:\n",
    "                return result\n",
    "    return None"
   ]
  },
  {
   "cell_type": "code",
   "execution_count": 3,
   "metadata": {},
   "outputs": [],
   "source": [
    "# Example usage\n",
    "nested_dict = {\n",
    "    'person1': {\n",
    "        'name': 'Alice',\n",
    "        'details': {\n",
    "            'age': 30,\n",
    "            'city': 'New York'\n",
    "        }\n",
    "    },\n",
    "    'person2': {\n",
    "        'name': 'Bob',\n",
    "        'details': {\n",
    "            'age': 25,\n",
    "            'city': 'Los Angeles'\n",
    "        }\n",
    "    }\n",
    "}"
   ]
  },
  {
   "cell_type": "code",
   "execution_count": 4,
   "metadata": {},
   "outputs": [
    {
     "name": "stdout",
     "output_type": "stream",
     "text": [
      "New York\n"
     ]
    }
   ],
   "source": [
    "value = search_key(nested_dict, 'city')\n",
    "print(value)\n"
   ]
  },
  {
   "cell_type": "code",
   "execution_count": null,
   "metadata": {},
   "outputs": [],
   "source": []
  }
 ],
 "metadata": {
  "kernelspec": {
   "display_name": "Python 3",
   "language": "python",
   "name": "python3"
  },
  "language_info": {
   "codemirror_mode": {
    "name": "ipython",
    "version": 3
   },
   "file_extension": ".py",
   "mimetype": "text/x-python",
   "name": "python",
   "nbconvert_exporter": "python",
   "pygments_lexer": "ipython3",
   "version": "3.11.5"
  }
 },
 "nbformat": 4,
 "nbformat_minor": 2
}
