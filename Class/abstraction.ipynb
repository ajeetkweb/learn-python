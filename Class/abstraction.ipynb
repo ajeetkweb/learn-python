{
 "cells": [
  {
   "cell_type": "markdown",
   "metadata": {},
   "source": [
    "### Abstraction : \n",
    "##### Abstraction is the concept of hiding the internal details and showing only the essential features of an object.\n",
    "#### abstraction can be achieved using abstract classes and abstract methods.\n",
    "#### Abstract classes provide a blueprint for other classes and cannot be instantiated directly.\n",
    "\n",
    "\n",
    "#### in python, abc module (Abstract Base Classes) allows us to define abstract classes and abstract methods."
   ]
  },
  {
   "cell_type": "code",
   "execution_count": 2,
   "metadata": {},
   "outputs": [],
   "source": [
    "from abc import ABC, abstractmethod"
   ]
  },
  {
   "cell_type": "code",
   "execution_count": 3,
   "metadata": {},
   "outputs": [],
   "source": [
    "# Abstract class\n",
    "class Animal(ABC):\n",
    "    \n",
    "    # Abstract method\n",
    "    @abstractmethod\n",
    "    def make_sound(self):\n",
    "        pass\n",
    "\n",
    "    # Concrete method (non-abstract method)\n",
    "    def sleep(self):\n",
    "        print(\"The animal is sleeping\")\n"
   ]
  },
  {
   "cell_type": "code",
   "execution_count": 4,
   "metadata": {},
   "outputs": [],
   "source": [
    "# Subclass 1\n",
    "class Dog(Animal):\n",
    "    def make_sound(self):\n",
    "        print(\"Bark\")"
   ]
  },
  {
   "cell_type": "code",
   "execution_count": 5,
   "metadata": {},
   "outputs": [],
   "source": [
    "# Subclass 2\n",
    "class Cat(Animal):\n",
    "    def make_sound(self):\n",
    "        print(\"Meow\")"
   ]
  },
  {
   "cell_type": "code",
   "execution_count": 6,
   "metadata": {},
   "outputs": [],
   "source": [
    "# Subclass 3\n",
    "class Cow(Animal):\n",
    "    def make_sound(self):\n",
    "        print(\"Moo\")"
   ]
  },
  {
   "cell_type": "code",
   "execution_count": 7,
   "metadata": {},
   "outputs": [],
   "source": [
    "# Create instances of the subclasses\n",
    "dog = Dog()\n",
    "cat = Cat()\n",
    "cow = Cow()"
   ]
  },
  {
   "cell_type": "code",
   "execution_count": 9,
   "metadata": {},
   "outputs": [
    {
     "name": "stdout",
     "output_type": "stream",
     "text": [
      "Bark\n",
      "Meow\n",
      "Moo\n",
      "The animal is sleeping\n"
     ]
    }
   ],
   "source": [
    "# Call the abstract method (implemented by subclasses)\n",
    "dog.make_sound()  # Output: Bark\n",
    "cat.make_sound()  # Output: Meow\n",
    "cow.make_sound()  # Output: Moo\n",
    "\n",
    "\n",
    "# Call the concrete method from the abstract class\n",
    "dog.sleep()  # Output: The animal is sleeping"
   ]
  },
  {
   "cell_type": "markdown",
   "metadata": {},
   "source": [
    "### Why Use Abstraction? \n",
    "\n",
    "##### 1. Code Reusability: Abstract classes define common functionality that can be reused by subclasses.\n",
    "##### 2. Enforcement of Structure: Abstract methods ensure that subclasses must implement certain behavior, enforcing a specific structure in derived classes.\n",
    "##### 3. Hiding Implementation Details: It hides implementation details and shows only the interface, allowing for better modularity."
   ]
  },
  {
   "cell_type": "markdown",
   "metadata": {},
   "source": []
  },
  {
   "cell_type": "markdown",
   "metadata": {},
   "source": [
    "#### Abstract Class with Multiple Abstract Methods"
   ]
  },
  {
   "cell_type": "code",
   "execution_count": 11,
   "metadata": {},
   "outputs": [
    {
     "name": "stdout",
     "output_type": "stream",
     "text": [
      "Car engine started\n",
      "Car engine stopped\n",
      "Motorcycle engine started\n",
      "Motorcycle engine stopped\n"
     ]
    }
   ],
   "source": [
    "from abc import ABC, abstractmethod\n",
    "\n",
    "class Vehicle(ABC):\n",
    "    @abstractmethod\n",
    "    def start_engine(self):\n",
    "        pass\n",
    "    \n",
    "    @abstractmethod\n",
    "    def stop_engine(self):\n",
    "        pass\n",
    "\n",
    "class Car(Vehicle):\n",
    "    def start_engine(self):\n",
    "        print(\"Car engine started\")\n",
    "\n",
    "    def stop_engine(self):\n",
    "        print(\"Car engine stopped\")\n",
    "\n",
    "class Motorcycle(Vehicle):\n",
    "    def start_engine(self):\n",
    "        print(\"Motorcycle engine started\")\n",
    "\n",
    "    def stop_engine(self):\n",
    "        print(\"Motorcycle engine stopped\")\n",
    "\n",
    "# Instantiate objects\n",
    "car = Car()\n",
    "motorcycle = Motorcycle()\n",
    "\n",
    "# Call methods\n",
    "car.start_engine()  # Output: Car engine started\n",
    "car.stop_engine()   # Output: Car engine stopped\n",
    "\n",
    "motorcycle.start_engine()  # Output: Motorcycle engine started\n",
    "motorcycle.stop_engine()   # Output: Motorcycle engine stopped\n"
   ]
  }
 ],
 "metadata": {
  "kernelspec": {
   "display_name": "Python 3",
   "language": "python",
   "name": "python3"
  },
  "language_info": {
   "codemirror_mode": {
    "name": "ipython",
    "version": 3
   },
   "file_extension": ".py",
   "mimetype": "text/x-python",
   "name": "python",
   "nbconvert_exporter": "python",
   "pygments_lexer": "ipython3",
   "version": "3.11.5"
  }
 },
 "nbformat": 4,
 "nbformat_minor": 2
}
