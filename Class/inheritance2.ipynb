{
 "cells": [
  {
   "cell_type": "code",
   "execution_count": 8,
   "metadata": {},
   "outputs": [],
   "source": [
    "class Person:\n",
    "    \n",
    "    def __init__(self, name, age, marital_status, address):\n",
    "        \n",
    "        self.name = name\n",
    "        self.age = age\n",
    "        self.marital_status = marital_status\n",
    "        self.address = address\n",
    "\n",
    "\n",
    "    def displayPersonDetails(self):\n",
    "        \n",
    "        print(f\"{self.name}, Age: {self.age}, Marital status: {self.marital_status}, Address: {self.address}\")"
   ]
  },
  {
   "cell_type": "code",
   "execution_count": 9,
   "metadata": {},
   "outputs": [
    {
     "name": "stdout",
     "output_type": "stream",
     "text": [
      "Ajeet, Age: 31, Marital status: Married, Address: Narkatiaganj, shivganj chauk Bihar\n",
      "Rahul, Age: 25, Marital status: Unmarried, Address: Jaipur, Rajasthan\n"
     ]
    }
   ],
   "source": [
    "person1 = Person('Ajeet', 31, 'Married', 'Narkatiaganj, shivganj chauk Bihar')\n",
    "person2 = Person('Rahul', 25, 'Unmarried', 'Jaipur, Rajasthan')\n",
    "\n",
    "person1.displayPersonDetails()\n",
    "person2.displayPersonDetails()"
   ]
  },
  {
   "cell_type": "code",
   "execution_count": 40,
   "metadata": {},
   "outputs": [],
   "source": [
    "class Student(Person):\n",
    "    \n",
    "    def __init__(self, name, age, marital_status, address, dob, school_name, rollNo, className):\n",
    "\n",
    "        super().__init__(name, age, marital_status, address)\n",
    "        \n",
    "        self.dob = dob\n",
    "        self.school_name = school_name\n",
    "        self.rollNo = rollNo\n",
    "        self.className = className\n",
    "\n",
    "    \n",
    "    def displayStudentInfo(self):\n",
    "        print(f\"Name: {self.name}\")\n",
    "        print(f\"Age: {self.age}\")\n",
    "        print(f\"Marital Status: {self.marital_status}\")\n",
    "        print(f\"Address: {self.address}\")\n",
    "        print(f\"Date of Birth: {self.dob}\")\n",
    "        print(f\"School Name: {self.school_name}\")\n",
    "        print(f\"Roll No: {self.rollNo}\")\n",
    "        print(f\"Class: {self.className}\")\n",
    "        print('========================')\n",
    "        print(\"calling parent class method to get student information\")\n",
    "        self.displayPersonDetails()\n",
    "\n",
    "\n"
   ]
  },
  {
   "cell_type": "code",
   "execution_count": 41,
   "metadata": {},
   "outputs": [
    {
     "name": "stdout",
     "output_type": "stream",
     "text": [
      "Name: Ajeet\n",
      "Age: 31\n",
      "Marital Status: Married\n",
      "Address: Narkatiaganj shivganj chauk Bihar\n",
      "Date of Birth: 30-12-1989\n",
      "School Name: HS Pirari\n",
      "Roll No: 101\n",
      "Class: Matric\n",
      "========================\n",
      "calling parent class method to get student information\n",
      "Ajeet, Age: 31, Marital status: Married, Address: Narkatiaganj shivganj chauk Bihar\n"
     ]
    }
   ],
   "source": [
    "student1 = Student('Ajeet', 31, 'Married', 'Narkatiaganj shivganj chauk Bihar',\n",
    "                    '30-12-1989', 'HS Pirari', 101, 'Matric')\n",
    "\n",
    "student1.displayStudentInfo()\n",
    "\n",
    "\n"
   ]
  }
 ],
 "metadata": {
  "kernelspec": {
   "display_name": "Python 3",
   "language": "python",
   "name": "python3"
  },
  "language_info": {
   "codemirror_mode": {
    "name": "ipython",
    "version": 3
   },
   "file_extension": ".py",
   "mimetype": "text/x-python",
   "name": "python",
   "nbconvert_exporter": "python",
   "pygments_lexer": "ipython3",
   "version": "3.11.5"
  }
 },
 "nbformat": 4,
 "nbformat_minor": 2
}
