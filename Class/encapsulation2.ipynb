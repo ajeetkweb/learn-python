{
 "cells": [
  {
   "cell_type": "code",
   "execution_count": 3,
   "metadata": {},
   "outputs": [],
   "source": [
    "class BankAccount:\n",
    "    def __init__(self, account_holder, balance):\n",
    "        self.account_holder = account_holder\n",
    "        self.__balance = balance  # Private attribute\n",
    "\n",
    "      # Public method to deposit money\n",
    "    def deposit(self, amount):\n",
    "        self.__balance += amount\n",
    "        print(f\"Deposited {amount}. New balance: {self.__balance}\")\n",
    "\n",
    "    # Public method to withdraw money\n",
    "    def withdraw(self, amount):\n",
    "        if self.__can_withdraw(amount):  # Calling the private method\n",
    "            self.__balance -= amount\n",
    "            print(f\"Withdrew {amount}. New balance: {self.__balance}\")\n",
    "        else:\n",
    "            print(\"Insufficient balance.\")\n",
    "\n",
    "    # Private method to check if withdrawal is possible\n",
    "    def __can_withdraw(self, amount):\n",
    "        return self.__balance >= amount"
   ]
  },
  {
   "cell_type": "markdown",
   "metadata": {},
   "source": [
    "##### Create a BankAccount object"
   ]
  },
  {
   "cell_type": "code",
   "execution_count": 4,
   "metadata": {},
   "outputs": [],
   "source": [
    "# Create a BankAccount object\n",
    "account = BankAccount(\"Alice\", 1000)"
   ]
  },
  {
   "cell_type": "markdown",
   "metadata": {},
   "source": [
    "##### Accessing public methods"
   ]
  },
  {
   "cell_type": "code",
   "execution_count": 5,
   "metadata": {},
   "outputs": [
    {
     "name": "stdout",
     "output_type": "stream",
     "text": [
      "Deposited 200. New balance: 1200\n",
      "Withdrew 500. New balance: 700\n"
     ]
    }
   ],
   "source": [
    "# Accessing public methods\n",
    "account.deposit(200)  # Output: Deposited 200. New balance: 1200\n",
    "account.withdraw(500)  # Output: Withdrew 500. New balance: 700"
   ]
  },
  {
   "cell_type": "code",
   "execution_count": 6,
   "metadata": {},
   "outputs": [
    {
     "name": "stdout",
     "output_type": "stream",
     "text": [
      "Insufficient balance.\n"
     ]
    }
   ],
   "source": [
    "# Attempting to withdraw more than balance\n",
    "account.withdraw(800)  # Output: Insufficient balance."
   ]
  },
  {
   "cell_type": "code",
   "execution_count": null,
   "metadata": {},
   "outputs": [],
   "source": [
    "# Trying to access private method (will raise an error)\n",
    "account.__can_withdraw(500)  # Raises AttributeError: 'BankAccount' object has no attribute '__can_withdraw'\n"
   ]
  },
  {
   "cell_type": "code",
   "execution_count": null,
   "metadata": {},
   "outputs": [],
   "source": []
  }
 ],
 "metadata": {
  "kernelspec": {
   "display_name": "Python 3",
   "language": "python",
   "name": "python3"
  },
  "language_info": {
   "codemirror_mode": {
    "name": "ipython",
    "version": 3
   },
   "file_extension": ".py",
   "mimetype": "text/x-python",
   "name": "python",
   "nbconvert_exporter": "python",
   "pygments_lexer": "ipython3",
   "version": "3.11.5"
  }
 },
 "nbformat": 4,
 "nbformat_minor": 2
}
